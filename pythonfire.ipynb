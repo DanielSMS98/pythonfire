{
 "metadata": {
  "language_info": {
   "codemirror_mode": {
    "name": "ipython",
    "version": 3
   },
   "file_extension": ".py",
   "mimetype": "text/x-python",
   "name": "python",
   "nbconvert_exporter": "python",
   "pygments_lexer": "ipython3",
   "version": "3.9.2"
  },
  "orig_nbformat": 2,
  "kernelspec": {
   "name": "python392jvsc74a57bd0d81a99b5d87102a1c4aa31e67b6bb8ac31dbc28ddc15512eb3e52575dd4ae6be",
   "display_name": "Python 3.9.2 64-bit ('PYTHONFIRE': pipenv)"
  }
 },
 "nbformat": 4,
 "nbformat_minor": 2,
 "cells": [
  {
   "cell_type": "code",
   "execution_count": 4,
   "metadata": {},
   "outputs": [],
   "source": [
    "from firebase import firebase"
   ]
  },
  {
   "cell_type": "code",
   "execution_count": 5,
   "metadata": {},
   "outputs": [
    {
     "output_type": "stream",
     "name": "stdout",
     "text": [
      "{'s1': {'name': 'Victor'}, 's2': {'name': 'Susana'}}\n"
     ]
    }
   ],
   "source": [
    "db = firebase.FirebaseApplication(\"https://pythonfire-cb1ab-default-rtdb.firebaseio.com/\",None)\n",
    "\n",
    "result = db.get('/students', None)\n",
    "\n",
    "print(result)"
   ]
  },
  {
   "cell_type": "code",
   "execution_count": 6,
   "metadata": {},
   "outputs": [
    {
     "output_type": "stream",
     "name": "stdout",
     "text": [
      "{'name': 'Daniel Solis Montiel', 'msj': 'Vi el video de la clase'}\n"
     ]
    }
   ],
   "source": [
    "class Student:\n",
    "    def __init__(self,name,msj):\n",
    "        self.name = name\n",
    "        self.msj = msj\n",
    "\n",
    "s1 = Student(\"Daniel Solis Montiel\",\"Vi el video de la clase\")\n",
    "\n",
    "data_s1 = vars(s1)\n",
    "print(data_s1)"
   ]
  },
  {
   "cell_type": "code",
   "execution_count": 12,
   "metadata": {},
   "outputs": [
    {
     "output_type": "stream",
     "name": "stdout",
     "text": [
      "Vi el video de la clase Daniel Solis Montiel\n"
     ]
    }
   ],
   "source": [
    "db.post('/asistencia/',data_s1)\n",
    "print(f\"Vi el video de la clase { data_s1['name'] }\")"
   ]
  },
  {
   "cell_type": "code",
   "execution_count": null,
   "metadata": {},
   "outputs": [],
   "source": []
  },
  {
   "cell_type": "code",
   "execution_count": 7,
   "metadata": {},
   "outputs": [
    {
     "output_type": "stream",
     "name": "stdout",
     "text": [
      "{'msj': 'sisepuede', 'name': 'lasusana'}\n{'msj': 'Asistencia', 'name': 'Hassan Colio '}\n{'msj': 'Ingesu si me salio', 'name': 'Victor'}\n{'msj': 'Si asisti a su clase', 'name': 'Ivan'}\n{'msj': 'Si asisti a su clase', 'name': 'Jonathan'}\n{'msj': 'Vi el video profe,aqui esta la tarea', 'name1': 'Leonardo Daniel'}\n{'msj': 'Vi el video profe,aqui esta la tarea', 'name1': 'Leonardo Daniel'}\n{'msj': 'Asistencia', 'name': 'Hassan Colio '}\n{'msj': 'Presente Profe', 'name': 'Leobardo Sanchez'}\n{'msj': 'Sí asistí a su clase', 'name': 'César Aceves'}\n{'msj': 'Vi el video de la clase', 'name': 'Daniel Solis Montiel'}\n"
     ]
    }
   ],
   "source": [
    "result = db.get('/asistencia', None)\n",
    "\n",
    "for student in result.values():\n",
    "\n",
    "  print(student)"
   ]
  },
  {
   "cell_type": "code",
   "execution_count": null,
   "metadata": {},
   "outputs": [],
   "source": []
  }
 ]
}